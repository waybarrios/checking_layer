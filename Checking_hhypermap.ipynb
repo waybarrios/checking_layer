{
 "cells": [
  {
   "cell_type": "markdown",
   "metadata": {},
   "source": [
    "### Read uuid file"
   ]
  },
  {
   "cell_type": "code",
   "execution_count": null,
   "metadata": {
    "collapsed": false
   },
   "outputs": [],
   "source": [
    "import os \n",
    "import csv\n",
    "import yaml\n",
    "uuids=[]\n",
    "list_bbox=[]\n",
    "with open('bbox_database.csv', 'rb') as mycsvfile:\n",
    "    data = csv.reader(mycsvfile,delimiter=' ')\n",
    "    for row in data:\n",
    "        uuids.append(row[0])\n",
    "        list_bbox.append(row[1])\n",
    "        \n",
    "       "
   ]
  },
  {
   "cell_type": "code",
   "execution_count": null,
   "metadata": {
    "collapsed": false
   },
   "outputs": [],
   "source": [
    "bbox_database=[]\n",
    "for i in range(len(list_bbox)):\n",
    "    \n",
    "    temp=list_bbox[i][1:-1].split(',')\n",
    "    x0=temp[0].replace(\"Decimal('\",'').replace(\"')\",'').lstrip().rstrip()\n",
    "    y0=temp[1].replace(\"Decimal('\",'').replace(\"')\",'').lstrip().rstrip()\n",
    "    x1=temp[2].replace(\"Decimal('\",'').replace(\"')\",'').lstrip().rstrip()\n",
    "    y1=temp[3].replace(\"Decimal('\",'').replace(\"')\",'').lstrip().rstrip()\n",
    "    bbox_database.append([x0,y0,x1,y1])\n",
    "\n",
    "\n"
   ]
  },
  {
   "cell_type": "code",
   "execution_count": null,
   "metadata": {
    "collapsed": false
   },
   "outputs": [],
   "source": [
    "#example\n",
    "print bbox_database[4545]"
   ]
  },
  {
   "cell_type": "code",
   "execution_count": null,
   "metadata": {
    "collapsed": false
   },
   "outputs": [],
   "source": [
    "subset=uuids[:10]\n",
    "#0 if is a valid mapproxy config - it returns a yaml, 1 if its invalid\n",
    "valid_config= [None for i in range (len(subset))]\n",
    "#0 if it is between -180,-90, 180, 90, 1 if it is outside that range or is None\n",
    "valid_bbox = [None for i in range (len(subset))]\n",
    "#0 is returns image, 1 if not\n",
    "imag_exist= [1 for i in range (len(subset))]\n"
   ]
  },
  {
   "cell_type": "markdown",
   "metadata": {},
   "source": [
    "### Generate yaml from uuid list"
   ]
  },
  {
   "cell_type": "code",
   "execution_count": null,
   "metadata": {
    "collapsed": false
   },
   "outputs": [],
   "source": [
    "import requests\n",
    "import yaml\n",
    "\n",
    "from multiprocessing import Pool\n",
    "\n",
    "piensa_url = 'http://hhypermap.wall.piensa.co/registry/hypermap/layer'\n",
    "yaml_folder = 'yamls'\n",
    "\n",
    "if not os.path.isdir(yaml_folder):\n",
    "    os.mkdir(yaml_folder)\n",
    "\n",
    "def create_yaml_file(uuid):\n",
    "    response = requests.get('{0}/{1}/map/config'.format(piensa_url, uuid))\n",
    "    raw_content = response.content\n",
    "    \n",
    "    if 'h1 { font-weight:normal; }' in raw_content:\n",
    "        return\n",
    "\n",
    "    with open(os.path.join(yaml_folder, '{0}.yml'.format(uuid)), 'wb') as f:\n",
    "        f.writelines(raw_content)\n",
    "\n",
    "pool = Pool(2)\n",
    "pool.map(create_yaml_file, subset)\n",
    "pool.close()\n",
    "pool.join()"
   ]
  },
  {
   "cell_type": "markdown",
   "metadata": {},
   "source": [
    "### Checking valid config and bbox"
   ]
  },
  {
   "cell_type": "code",
   "execution_count": null,
   "metadata": {
    "collapsed": false
   },
   "outputs": [],
   "source": [
    "def valid_config_bbox(yaml_file,data,index,yaml_folder='yamls'):\n",
    "    yaml_files = os.listdir('yamls')\n",
    "    if yaml_file in yaml_files:\n",
    "        try:\n",
    "            with open(os.path.join(yaml_folder, yaml_file), 'rb') as f:\n",
    "                yaml_text = yaml.load(f)\n",
    "                \n",
    "            defa_source = yaml_text['sources']['default_source']\n",
    "            if 'coverage' in defa_source:\n",
    "                config=0\n",
    "                bbox=0\n",
    "\n",
    "            else:\n",
    "                config=2\n",
    "                bbox=1\n",
    "            \n",
    "            get_bbox=data[i]\n",
    "            bbox_x0 = get_bbox[0]\n",
    "            bbox_y0 = get_bbox[1]\n",
    "            bbox_x1 = get_bbox[2]\n",
    "            bbox_y1 = get_bbox[3]\n",
    "            if bbox_x0=='None' or bbox_y0=='None' or bbox_x1=='None' or bbox_y1=='None':\n",
    "                bbx=2\n",
    "            else:\n",
    "                bbox_x0 = float(bbox_x0)\n",
    "                bbox_y0 = float(bbox_y0)\n",
    "                bbox_x1 = float(bbox_x1)\n",
    "                bbox_y1 = float(bbox_y1)\n",
    "                if (abs(bbox_x0)>180.0) and (abs(bbox_x1)>180.0) and (abs(bbox_y0)>90) and (abs(bbox_y1)>90):\n",
    "                    bbx=1\n",
    "                else:\n",
    "                    bbx=0\n",
    "                    \n",
    "            \n",
    "        except yaml.YAMLError as exc:\n",
    "            config,bbx= 1,1\n",
    "            print (exc)\n",
    "    else:\n",
    "        config,bbx=1,1\n",
    "        \n",
    "    return config, bbx\n",
    "        \n",
    "  "
   ]
  },
  {
   "cell_type": "code",
   "execution_count": null,
   "metadata": {
    "collapsed": false,
    "scrolled": true
   },
   "outputs": [],
   "source": [
    "\n",
    "for i in range(4):\n",
    "    print 'Proceso:' , i\n",
    "    print subset[i]\n",
    "    resul_valid, resul_bbox=valid_config_bbox('{0}.yml'.format(subset[i]),bbox_database,i)\n",
    "    valid_config[i] = resul_valid\n",
    "    valid_bbox[i] = resul_bbox\n",
    "    \n"
   ]
  },
  {
   "cell_type": "code",
   "execution_count": null,
   "metadata": {
    "collapsed": false
   },
   "outputs": [],
   "source": [
    "#generate imgs if bbox is correct (None in bbox is -180,-90,180,90)\n",
    "candidates_id = [idx for idx in range(len(valid_bbox)) if valid_bbox[idx]!=1 ]\n",
    "print candidates_id\n"
   ]
  },
  {
   "cell_type": "markdown",
   "metadata": {},
   "source": [
    "### Generate mapproxy image"
   ]
  },
  {
   "cell_type": "code",
   "execution_count": null,
   "metadata": {
    "collapsed": false
   },
   "outputs": [],
   "source": [
    "import io\n",
    "import sys\n",
    "\n",
    "from IPython.display import Image\n",
    "\n",
    "from mapproxy.config.config import load_default_config, load_config\n",
    "from mapproxy.config.loader import ProxyConfiguration\n",
    "from mapproxy.wsgiapp import MapProxyApp\n",
    "\n",
    "from multiprocessing import Pool\n",
    "\n",
    "from six.moves.urllib_parse import unquote as url_unquote\n",
    "\n",
    "\n",
    "def start_response(status, headers, exc_info=None):\n",
    "    captured[:] = [status, headers, exc_info]\n",
    "    return output.append\n",
    "\n",
    "\n",
    "def environ_from_url(path):\n",
    "    \"\"\"From webob.request\n",
    "    TOD: Add License.\n",
    "    \"\"\"\n",
    "    scheme = 'http'\n",
    "    netloc = 'localhost:80'\n",
    "    if path and '?' in path:\n",
    "        path_info, query_string = path.split('?', 1)\n",
    "        path_info = url_unquote(path_info)\n",
    "    else:\n",
    "        path_info = url_unquote(path)\n",
    "        query_string = ''\n",
    "    env = {\n",
    "        'REQUEST_METHOD': 'GET',\n",
    "        'SCRIPT_NAME': '',\n",
    "        'PATH_INFO': path_info or '',\n",
    "        'QUERY_STRING': query_string,\n",
    "        'SERVER_NAME': netloc.split(':')[0],\n",
    "        'SERVER_PORT': netloc.split(':')[1],\n",
    "        'HTTP_HOST': netloc,\n",
    "        'SERVER_PROTOCOL': 'HTTP/1.0',\n",
    "        'wsgi.version': (1, 0),\n",
    "        'wsgi.url_scheme': scheme,\n",
    "        'wsgi.input': io.BytesIO(),\n",
    "        'wsgi.errors': sys.stderr,\n",
    "        'wsgi.multithread': False,\n",
    "        'wsgi.multiprocess': False,\n",
    "        'wsgi.run_once': False,\n",
    "    }\n",
    "    return env\n",
    "\n",
    "\n",
    "def get_path_info_params(yaml_text):\n",
    "    sources = yaml_text['sources']['default_source']\n",
    "    bbox_req = '-180,-90,180,90'\n",
    "    if 'coverage' in sources:\n",
    "        coverage = yaml_text['sources']['default_source']['coverage']\n",
    "        bbox_req = ','.join([str(f) for f in coverage['bbox']])\n",
    "\n",
    "    if 'layers'in yaml_text:\n",
    "        lay_name = yaml_text['layers'][0]['name']\n",
    "\n",
    "    return bbox_req, lay_name\n",
    "\n",
    "\n",
    "def create_mapproxy_image(yaml_file):\n",
    "    uuid = yaml_file.split('.')[0]\n",
    "    print uuid\n",
    "    with open(os.path.join(yaml_folder, yaml_file), 'rb') as f:\n",
    "        yaml_text = yaml.load(f)\n",
    "\n",
    "    captured = []\n",
    "    output = []\n",
    "    bbox_req, lay_name = get_path_info_params(yaml_text)\n",
    "    \n",
    "    path_info = ('/service?LAYERS={0}&FORMAT=image%2Fpng&SRS=EPSG%3A4326'\n",
    "                 '&EXCEPTIONS=application%2Fvnd.ogc.se_inimage&TRANSPARENT=TRUE&SERVICE=WMS&VERSION=1.1.1&'\n",
    "                 'REQUEST=GetMap&STYLES=&BBOX={1}&WIDTH=200&HEIGHT=150').format(lay_name, bbox_req)\n",
    "    conf_options = load_default_config()\n",
    "    # Merge both\n",
    "    load_config(conf_options, config_dict=yaml_text)\n",
    "    conf = ProxyConfiguration(conf_options, seed=False, renderd=False)\n",
    "    \n",
    "    \n",
    "    # Create a MapProxy App\n",
    "    app = MapProxyApp(conf.configured_services(), conf.base_config)\n",
    "    # Get a response from MapProxyAppy as if it was running standalone.\n",
    "    environ = environ_from_url(path_info)\n",
    "    try:\n",
    "        app_iter = app(environ, start_response)\n",
    "        with open(os.path.join(images_folder, '{0}.png'.format(uuid)), 'wb') as img:\n",
    "            img.write(app_iter.next())\n",
    "        imag=0\n",
    "        \n",
    "    except: \n",
    "        imag=1 #error en la imagen\n",
    "        \n",
    "    return imag\n",
    "\n",
    "\n",
    "\n",
    "\n",
    "\n"
   ]
  },
  {
   "cell_type": "code",
   "execution_count": null,
   "metadata": {
    "collapsed": false
   },
   "outputs": [],
   "source": [
    "images_folder = 'images'\n",
    "if not os.path.isdir(images_folder):\n",
    "    os.mkdir(images_folder)\n",
    "\n",
    "yaml_files=[\"{0}.yml\".format(uuids[item]) for item in candidates_id]\n",
    "for i in range (len(yaml_files)):\n",
    "    idx= candidates_id[i]\n",
    "    imag_exist[candidates_id[i]]= create_mapproxy_image(yaml_files[i])\n",
    "\n",
    "    \n",
    "#pool = Pool(4)\n",
    "#pool.map(create_mapproxy_image, yaml_files)\n",
    "#pool.close()\n",
    "#pool.join()\n"
   ]
  },
  {
   "cell_type": "markdown",
   "metadata": {},
   "source": [
    "### Saving CSV"
   ]
  },
  {
   "cell_type": "code",
   "execution_count": null,
   "metadata": {
    "collapsed": true
   },
   "outputs": [],
   "source": [
    "with open('checking_data.csv', 'wb') as f:\n",
    "    writer = csv.writer(f,delimiter=' ')\n",
    "    rows = zip(uuids,valid_config,valid_bbox,imag_exist)\n",
    "    for row in rows:\n",
    "        writer.writerow(row)"
   ]
  }
 ],
 "metadata": {
  "anaconda-cloud": {},
  "kernelspec": {
   "display_name": "Python [default]",
   "language": "python",
   "name": "python2"
  },
  "language_info": {
   "codemirror_mode": {
    "name": "ipython",
    "version": 2
   },
   "file_extension": ".py",
   "mimetype": "text/x-python",
   "name": "python",
   "nbconvert_exporter": "python",
   "pygments_lexer": "ipython2",
   "version": "2.7.12"
  }
 },
 "nbformat": 4,
 "nbformat_minor": 1
}
